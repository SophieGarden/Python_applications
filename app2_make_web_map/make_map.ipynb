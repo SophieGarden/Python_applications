{
 "cells": [
  {
   "cell_type": "code",
   "execution_count": 1,
   "id": "e384b3cb",
   "metadata": {},
   "outputs": [],
   "source": [
    "import folium\n",
    "import pandas\n",
    "import matplotlib.pyplot as plt"
   ]
  },
  {
   "cell_type": "code",
   "execution_count": 2,
   "id": "27658172",
   "metadata": {},
   "outputs": [],
   "source": [
    "data = pandas.read_csv(\"Webmap_datasources/Volcanoes.txt\")\n"
   ]
  },
  {
   "cell_type": "code",
   "execution_count": 3,
   "id": "29cbf80e",
   "metadata": {},
   "outputs": [
    {
     "data": {
      "text/plain": [
       "<AxesSubplot:>"
      ]
     },
     "execution_count": 3,
     "metadata": {},
     "output_type": "execute_result"
    },
    {
     "data": {
      "image/png": "[encoded data removed]",
      "text/plain": [
       "<Figure size 432x288 with 1 Axes>"
      ]
     },
     "metadata": {
      "needs_background": "light"
     },
     "output_type": "display_data"
    }
   ],
   "source": [
    "# check elevation distribution to decide coloring thresholds\n",
    "data.ELEV.hist()"
   ]
  },
  {
   "cell_type": "code",
   "execution_count": 4,
   "id": "93dbeb52",
   "metadata": {},
   "outputs": [],
   "source": [
    "def produce_color(elev):\n",
    "    if elev < 1500:\n",
    "        color = 'green'\n",
    "    elif elev >= 1500 and elev < 3000:\n",
    "        color = 'orange'\n",
    "    else:\n",
    "        color = 'red'\n",
    "    return color"
   ]
  },
  {
   "cell_type": "code",
   "execution_count": 5,
   "id": "f424bc5d",
   "metadata": {},
   "outputs": [],
   "source": [
    "lat = list(data[\"LAT\"])\n",
    "lon = list(data[\"LON\"])\n",
    "elev = list(data[\"ELEV\"])\n",
    " \n",
    "html = \"\"\"<h4>Volcano information:</h4>\n",
    "Height: %s m\n",
    "\"\"\"\n",
    " \n",
    "map = folium.Map(location=[38.58, -99.09], zoom_start=5, tiles=\"Stamen Terrain\")\n",
    " "
   ]
  },
  {
   "cell_type": "code",
   "execution_count": 6,
   "id": "a5d8cd6b",
   "metadata": {},
   "outputs": [],
   "source": [
    "fg_v = folium.FeatureGroup(name='Volcanoes')\n",
    "for lt, ln, el in zip(lat, lon, elev):\n",
    "    iframe = folium.IFrame(html=html % str(el), width=200, height=100)\n",
    "    fg_v.add_child(folium.CircleMarker(location=[lt, ln], \n",
    "                                     radius = 6,\n",
    "                                     popup=str(el) + ' m',\n",
    "                                     fillColor = produce_color(el),\n",
    "                                     color = produce_color(el),\n",
    "                                     fill_opacity = 0.7\n",
    "                                    )\n",
    "                )\n",
    " \n",
    " "
   ]
  },
  {
   "cell_type": "code",
   "execution_count": 7,
   "id": "de6818ad",
   "metadata": {},
   "outputs": [
    {
     "data": {
      "text/plain": [
       "<folium.map.FeatureGroup at 0x116451220>"
      ]
     },
     "execution_count": 7,
     "metadata": {},
     "output_type": "execute_result"
    }
   ],
   "source": [
    "fg_p = folium.FeatureGroup(name='Population')\n",
    "fg_p.add_child(folium.GeoJson(data=open('Webmap_datasources/world.json',\n",
    "                                      'r', encoding='utf-8-sig').read(),\n",
    "                            style_function=(lambda x: {'fillColor':'green'\n",
    "                            if x['properties']['POP2005'] < 10e6\n",
    "                            else 'orange' if 10e6 <= x['properties']['POP2005'] < 20e6 \n",
    "                            else 'red'}\n",
    "                                           )\n",
    "                           )\n",
    "            )\n",
    "            "
   ]
  },
  {
   "cell_type": "code",
   "execution_count": 8,
   "id": "ef429bbc",
   "metadata": {},
   "outputs": [],
   "source": [
    "map.add_child(fg_v)\n",
    "map.add_child(fg_p)\n",
    "\n",
    "map.add_child(folium.LayerControl())\n",
    "map.save(\"Map_html_popup_simple.html\")"
   ]
  },
  {
   "cell_type": "code",
   "execution_count": null,
   "id": "0c7274ae",
   "metadata": {},
   "outputs": [],
   "source": []
  },
  {
   "cell_type": "code",
   "execution_count": null,
   "id": "db86c9bf",
   "metadata": {},
   "outputs": [],
   "source": []
  }
 ],
 "metadata": {
  "kernelspec": {
   "display_name": "Python 3",
   "language": "python",
   "name": "python3"
  },
  "language_info": {
   "codemirror_mode": {
    "name": "ipython",
    "version": 3
   },
   "file_extension": ".py",
   "mimetype": "text/x-python",
   "name": "python",
   "nbconvert_exporter": "python",
   "pygments_lexer": "ipython3",
   "version": "3.9.2"
  }
 },
 "nbformat": 4,
 "nbformat_minor": 5
}
